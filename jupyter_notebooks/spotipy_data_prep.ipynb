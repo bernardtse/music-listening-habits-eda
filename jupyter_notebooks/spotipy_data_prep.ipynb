{
 "cells": [
  {
   "cell_type": "markdown",
   "id": "09ca32cf",
   "metadata": {},
   "source": [
    "# Data preparation"
   ]
  },
  {
   "cell_type": "code",
   "execution_count": 1,
   "id": "a52421b3",
   "metadata": {},
   "outputs": [],
   "source": [
    "# Based on the codes in the Eduardo's code as well as the code in the Spotipy documentation https://spotipy.readthedocs.io/en/2.22.1/\n",
    "\n",
    "# import dependencies\n",
    "import spotipy as sp\n",
    "from spotipy.oauth2 import SpotifyClientCredentials\n",
    "from pprint import pprint\n",
    "import pandas as pd\n",
    "import numpy as np\n",
    "\n",
    "# Authorisation\n",
    "from config import CLIENT_ID\n",
    "from config import CLIENT_SECRET\n",
    "\n",
    "# Initialize the Spotify client with client credentials flow\n",
    "client_credentials_manager = SpotifyClientCredentials(client_id=CLIENT_ID, client_secret=CLIENT_SECRET)\n",
    "sp = sp.Spotify(client_credentials_manager=client_credentials_manager)"
   ]
  },
  {
   "cell_type": "code",
   "execution_count": 2,
   "id": "ea00003a",
   "metadata": {},
   "outputs": [],
   "source": [
    "# Top hits playlists for the last 6 years\n",
    "Years = {\"2017\": \"https://open.spotify.com/playlist/37i9dQZF1DWTE7dVUebpUW\",\n",
    "        \"2018\": \"https://open.spotify.com/playlist/37i9dQZF1DXe2bobNYDtW8\",\n",
    "        \"2019\": \"https://open.spotify.com/playlist/37i9dQZF1DWVRSukIED0e9\",\n",
    "        \"2020\": \"https://open.spotify.com/playlist/2fmTTbBkXi8pewbUvG3CeZ\",\n",
    "        \"2021\": \"https://open.spotify.com/playlist/5GhQiRkGuqzpWZSE7OU4Se\",\n",
    "        \"2022\": \"https://open.spotify.com/playlist/56r5qRUv3jSxADdmBkhcz7\"}\n",
    "\n",
    "# set empty lists to add data to\n",
    "track_features = []\n",
    "track_id = []\n",
    "track_name = []\n",
    "track_popularity = []\n",
    "artist_name = []\n",
    "artist_id = []\n",
    "artist_genre = []\n",
    "\n",
    "# loop through years to request data we need for each year\n",
    "for year in Years:\n",
    "    playlist_URI = Years[year]\n",
    "    \n",
    "    # apend gave me a list of lists, so using extend instead    \n",
    "    # get tracks for this year\n",
    "    track_id_this_year = [x[\"track\"][\"id\"] for x in sp.playlist_tracks(playlist_URI)[\"items\"]]\n",
    "   \n",
    "    # get track features\n",
    "    track_features.extend(sp.audio_features(track_id_this_year))    \n",
    "    \n",
    "    #get the rest of tracks info\n",
    "    track_id.extend(track_id_this_year)\n",
    "    track_name.extend ([x[\"track\"][\"name\"] for x in sp.playlist_tracks(playlist_URI)[\"items\"]])\n",
    "    track_popularity.extend ([x[\"track\"][\"popularity\"] for x in sp.playlist_tracks(playlist_URI)[\"items\"]])\n",
    "    \n",
    "    # get artist info\n",
    "    artist_name.extend([x[\"track\"][\"artists\"][0][\"name\"] for x in sp.playlist_tracks(playlist_URI)[\"items\"]])\n",
    "    artist_id.extend([x[\"track\"][\"artists\"][0][\"id\"] for x in sp.playlist_tracks(playlist_URI)[\"items\"]])\n",
    "    \n",
    "    # get artist uri so we can get genre\n",
    "    artist_uri = [x[\"track\"][\"artists\"][0][\"uri\"] for x in sp.playlist_tracks(playlist_URI)[\"items\"]]\n",
    "    artist_genre.extend([sp.artist(uri)[\"genres\"] for uri in artist_uri])\n",
    "    "
   ]
  },
  {
   "cell_type": "code",
   "execution_count": 16,
   "id": "31d5762a",
   "metadata": {},
   "outputs": [],
   "source": [
    "# join all the information in a dataframe\n",
    "\n",
    "# first the track info\n",
    "years = ['2017', '2018', '2019', '2020', '2021', '2022']\n",
    "year_index = np.repeat(years,100)\n",
    "\n",
    "track_info = pd.DataFrame({\"Year\": year_index,\n",
    "                           \"id\" : track_id,\n",
    "                           \"artist id\" : artist_id,\n",
    "                           \"track name\" : track_name,\n",
    "                           \"artist name\" : artist_name,\n",
    "                           \"artist genre\": artist_genre,\n",
    "                           \"track popularity\" : track_popularity})\n",
    "\n",
    "# then the track features\n",
    "track_features_df = pd.DataFrame(track_features)\n",
    "\n",
    "# and now merge the two\n",
    "complete_df = pd.merge(track_info, track_features_df, on = \"id\", how = \"inner\")\n",
    "\n",
    "# the merged df has 44 duplicates, so getting rid of them here. We end up with a df with len = 600 (100 songs for each year)\n",
    "complete_df = complete_df.drop_duplicates([\"id\", \"Year\"])\n",
    "\n",
    "# save output\n",
    "complete_df.to_csv('../output_data/spotipy_data.csv')"
   ]
  }
 ],
 "metadata": {
  "kernelspec": {
   "display_name": "Python 3 (ipykernel)",
   "language": "python",
   "name": "python3"
  },
  "language_info": {
   "codemirror_mode": {
    "name": "ipython",
    "version": 3
   },
   "file_extension": ".py",
   "mimetype": "text/x-python",
   "name": "python",
   "nbconvert_exporter": "python",
   "pygments_lexer": "ipython3",
   "version": "3.10.13"
  }
 },
 "nbformat": 4,
 "nbformat_minor": 5
}
