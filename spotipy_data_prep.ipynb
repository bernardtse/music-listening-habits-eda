{
 "cells": [
  {
   "cell_type": "markdown",
   "id": "09ca32cf",
   "metadata": {},
   "source": [
    "# Data preparation"
   ]
  },
  {
   "cell_type": "code",
   "execution_count": null,
   "id": "a52421b3",
   "metadata": {},
   "outputs": [],
   "source": [
    "#Based on the codes in the Eduardo's code as well as the code in the Spotipy documentation https://spotipy.readthedocs.io/en/2.22.1/\n",
    "\n",
    "# import dependencies\n",
    "import spotipy as sp\n",
    "from spotipy.oauth2 import SpotifyClientCredentials\n",
    "from pprint import pprint\n",
    "import pandas as pd\n",
    "\n",
    "# Authorisation\n",
    "from config import CLIENT_ID\n",
    "from config import CLIENT_SECRET\n",
    "\n",
    "# Initialize the Spotify client with client credentials flow\n",
    "client_credentials_manager = SpotifyClientCredentials(client_id=CLIENT_ID, client_secret=CLIENT_SECRET)\n",
    "sp = sp.Spotify(client_credentials_manager=client_credentials_manager)"
   ]
  },
  {
   "cell_type": "code",
   "execution_count": 38,
   "id": "ea00003a",
   "metadata": {},
   "outputs": [],
   "source": [
    "Years = {\"2017\": \"https://open.spotify.com/playlist/37i9dQZF1DWTE7dVUebpUW\",\n",
    "        \"2018\": \"https://open.spotify.com/playlist/37i9dQZF1DXe2bobNYDtW8\",\n",
    "        \"2019\": \"https://open.spotify.com/playlist/37i9dQZF1DWVRSukIED0e9\",\n",
    "        \"2020\": \"https://open.spotify.com/playlist/37i9dQZF1DX7Jl5KP2eZaS\",\n",
    "        \"2021\": \"https://open.spotify.com/playlist/5GhQiRkGuqzpWZSE7OU4Se\",\n",
    "        \"2022\": \"https://open.spotify.com/playlist/37i9dQZF1DX18jTM2l2fJY\"}\n",
    "\n",
    "track_id = []\n",
    "track_name = []\n",
    "track_popularity = []\n",
    "artist_name = []\n",
    "artist_id = []\n",
    "track_features = []\n",
    "#year = []\n",
    "\n",
    "for year in Years:\n",
    "    playlist_URI = Years[year]\n",
    "    track_id.append (x[\"track\"][\"id\"] for x in sp.playlist_tracks(playlist_URI)[\"items\"])\n",
    "    track_name.append (x[\"track\"][\"name\"] for x in sp.playlist_tracks(playlist_URI)[\"items\"])\n",
    "    track_popularity.append (x[\"track\"][\"popularity\"] for x in sp.playlist_tracks(playlist_URI)[\"items\"])\n",
    "    artist_name.append(x[\"track\"][\"artists\"][0][\"name\"] for x in sp.playlist_tracks(playlist_URI)[\"items\"])\n",
    "    artist_id.append(x[\"track\"][\"artists\"][0][\"id\"] for x in sp.playlist_tracks(playlist_URI)[\"items\"])\n",
    "    #track_features.append(sp.audio_features(track_id))\n",
    "    \n",
    "    "
   ]
  },
  {
   "cell_type": "code",
   "execution_count": 22,
   "id": "31d5762a",
   "metadata": {},
   "outputs": [],
   "source": [
    "track_info = pd.DataFrame({\"Year\": \"2017\",\n",
    "                   \"id\" : track_id,\n",
    "                   \"track name\" : track_name,\n",
    "                   \"track popularity\" : track_popularity,\n",
    "                   \"artist id\" : artist_id,\n",
    "                   \"artist name\" : artist_name,                    \n",
    "})\n",
    "\n",
    "track_features_df = pd.DataFrame(track_features)\n",
    "\n",
    "complete_df = pd.merge(track_info, track_features_df, on = \"\")"
   ]
  }
 ],
 "metadata": {
  "kernelspec": {
   "display_name": "Python 3 (ipykernel)",
   "language": "python",
   "name": "python3"
  },
  "language_info": {
   "codemirror_mode": {
    "name": "ipython",
    "version": 3
   },
   "file_extension": ".py",
   "mimetype": "text/x-python",
   "name": "python",
   "nbconvert_exporter": "python",
   "pygments_lexer": "ipython3",
   "version": "3.10.13"
  }
 },
 "nbformat": 4,
 "nbformat_minor": 5
}
